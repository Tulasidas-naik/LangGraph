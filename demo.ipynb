{
 "cells": [
  {
   "cell_type": "code",
   "execution_count": 417,
   "id": "4d82126d",
   "metadata": {},
   "outputs": [
    {
     "name": "stdout",
     "output_type": "stream",
     "text": [
      "Requirement already satisfied: langchain in c:\\users\\338967\\downloads\\personal\\react\\langgraph\\venv\\lib\\site-packages (0.3.26)\n",
      "Requirement already satisfied: langchain-core<1.0.0,>=0.3.66 in c:\\users\\338967\\downloads\\personal\\react\\langgraph\\venv\\lib\\site-packages (from langchain) (0.3.69)\n",
      "Requirement already satisfied: langchain-text-splitters<1.0.0,>=0.3.8 in c:\\users\\338967\\downloads\\personal\\react\\langgraph\\venv\\lib\\site-packages (from langchain) (0.3.8)\n",
      "Requirement already satisfied: langsmith>=0.1.17 in c:\\users\\338967\\downloads\\personal\\react\\langgraph\\venv\\lib\\site-packages (from langchain) (0.4.6)\n",
      "Requirement already satisfied: pydantic<3.0.0,>=2.7.4 in c:\\users\\338967\\downloads\\personal\\react\\langgraph\\venv\\lib\\site-packages (from langchain) (2.11.7)\n",
      "Requirement already satisfied: SQLAlchemy<3,>=1.4 in c:\\users\\338967\\downloads\\personal\\react\\langgraph\\venv\\lib\\site-packages (from langchain) (2.0.41)\n",
      "Requirement already satisfied: requests<3,>=2 in c:\\users\\338967\\downloads\\personal\\react\\langgraph\\venv\\lib\\site-packages (from langchain) (2.32.4)\n",
      "Requirement already satisfied: PyYAML>=5.3 in c:\\users\\338967\\downloads\\personal\\react\\langgraph\\venv\\lib\\site-packages (from langchain) (6.0.2)\n",
      "Requirement already satisfied: tenacity!=8.4.0,<10.0.0,>=8.1.0 in c:\\users\\338967\\downloads\\personal\\react\\langgraph\\venv\\lib\\site-packages (from langchain-core<1.0.0,>=0.3.66->langchain) (9.1.2)\n",
      "Requirement already satisfied: jsonpatch<2.0,>=1.33 in c:\\users\\338967\\downloads\\personal\\react\\langgraph\\venv\\lib\\site-packages (from langchain-core<1.0.0,>=0.3.66->langchain) (1.33)\n",
      "Requirement already satisfied: typing-extensions>=4.7 in c:\\users\\338967\\downloads\\personal\\react\\langgraph\\venv\\lib\\site-packages (from langchain-core<1.0.0,>=0.3.66->langchain) (4.14.1)\n",
      "Requirement already satisfied: packaging>=23.2 in c:\\users\\338967\\downloads\\personal\\react\\langgraph\\venv\\lib\\site-packages (from langchain-core<1.0.0,>=0.3.66->langchain) (25.0)\n",
      "Requirement already satisfied: httpx<1,>=0.23.0 in c:\\users\\338967\\downloads\\personal\\react\\langgraph\\venv\\lib\\site-packages (from langsmith>=0.1.17->langchain) (0.28.1)\n",
      "Requirement already satisfied: orjson<4.0.0,>=3.9.14 in c:\\users\\338967\\downloads\\personal\\react\\langgraph\\venv\\lib\\site-packages (from langsmith>=0.1.17->langchain) (3.11.0)\n",
      "Requirement already satisfied: requests-toolbelt<2.0.0,>=1.0.0 in c:\\users\\338967\\downloads\\personal\\react\\langgraph\\venv\\lib\\site-packages (from langsmith>=0.1.17->langchain) (1.0.0)\n",
      "Requirement already satisfied: zstandard<0.24.0,>=0.23.0 in c:\\users\\338967\\downloads\\personal\\react\\langgraph\\venv\\lib\\site-packages (from langsmith>=0.1.17->langchain) (0.23.0)\n",
      "Requirement already satisfied: annotated-types>=0.6.0 in c:\\users\\338967\\downloads\\personal\\react\\langgraph\\venv\\lib\\site-packages (from pydantic<3.0.0,>=2.7.4->langchain) (0.7.0)\n",
      "Requirement already satisfied: pydantic-core==2.33.2 in c:\\users\\338967\\downloads\\personal\\react\\langgraph\\venv\\lib\\site-packages (from pydantic<3.0.0,>=2.7.4->langchain) (2.33.2)\n",
      "Requirement already satisfied: typing-inspection>=0.4.0 in c:\\users\\338967\\downloads\\personal\\react\\langgraph\\venv\\lib\\site-packages (from pydantic<3.0.0,>=2.7.4->langchain) (0.4.1)\n",
      "Requirement already satisfied: charset_normalizer<4,>=2 in c:\\users\\338967\\downloads\\personal\\react\\langgraph\\venv\\lib\\site-packages (from requests<3,>=2->langchain) (3.4.2)\n",
      "Requirement already satisfied: idna<4,>=2.5 in c:\\users\\338967\\downloads\\personal\\react\\langgraph\\venv\\lib\\site-packages (from requests<3,>=2->langchain) (3.10)\n",
      "Requirement already satisfied: urllib3<3,>=1.21.1 in c:\\users\\338967\\downloads\\personal\\react\\langgraph\\venv\\lib\\site-packages (from requests<3,>=2->langchain) (2.5.0)\n",
      "Requirement already satisfied: certifi>=2017.4.17 in c:\\users\\338967\\downloads\\personal\\react\\langgraph\\venv\\lib\\site-packages (from requests<3,>=2->langchain) (2025.7.14)\n",
      "Requirement already satisfied: greenlet>=1 in c:\\users\\338967\\downloads\\personal\\react\\langgraph\\venv\\lib\\site-packages (from SQLAlchemy<3,>=1.4->langchain) (3.2.3)\n",
      "Requirement already satisfied: anyio in c:\\users\\338967\\downloads\\personal\\react\\langgraph\\venv\\lib\\site-packages (from httpx<1,>=0.23.0->langsmith>=0.1.17->langchain) (4.9.0)\n",
      "Requirement already satisfied: httpcore==1.* in c:\\users\\338967\\downloads\\personal\\react\\langgraph\\venv\\lib\\site-packages (from httpx<1,>=0.23.0->langsmith>=0.1.17->langchain) (1.0.9)\n",
      "Requirement already satisfied: h11>=0.16 in c:\\users\\338967\\downloads\\personal\\react\\langgraph\\venv\\lib\\site-packages (from httpcore==1.*->httpx<1,>=0.23.0->langsmith>=0.1.17->langchain) (0.16.0)\n",
      "Requirement already satisfied: jsonpointer>=1.9 in c:\\users\\338967\\downloads\\personal\\react\\langgraph\\venv\\lib\\site-packages (from jsonpatch<2.0,>=1.33->langchain-core<1.0.0,>=0.3.66->langchain) (3.0.0)\n",
      "Requirement already satisfied: sniffio>=1.1 in c:\\users\\338967\\downloads\\personal\\react\\langgraph\\venv\\lib\\site-packages (from anyio->httpx<1,>=0.23.0->langsmith>=0.1.17->langchain) (1.3.1)\n",
      "Note: you may need to restart the kernel to use updated packages.\n"
     ]
    },
    {
     "name": "stderr",
     "output_type": "stream",
     "text": [
      "\n",
      "[notice] A new release of pip is available: 24.3.1 -> 25.1.1\n",
      "[notice] To update, run: python.exe -m pip install --upgrade pip\n"
     ]
    }
   ],
   "source": [
    "pip install langchain\n"
   ]
  },
  {
   "cell_type": "code",
   "execution_count": 418,
   "id": "c62ad372",
   "metadata": {},
   "outputs": [
    {
     "name": "stdout",
     "output_type": "stream",
     "text": [
      "Requirement already satisfied: langchain-google-genai in c:\\users\\338967\\downloads\\personal\\react\\langgraph\\venv\\lib\\site-packages (2.1.8)\n",
      "Requirement already satisfied: filetype<2.0.0,>=1.2.0 in c:\\users\\338967\\downloads\\personal\\react\\langgraph\\venv\\lib\\site-packages (from langchain-google-genai) (1.2.0)\n",
      "Requirement already satisfied: google-ai-generativelanguage<0.7.0,>=0.6.18 in c:\\users\\338967\\downloads\\personal\\react\\langgraph\\venv\\lib\\site-packages (from langchain-google-genai) (0.6.18)\n",
      "Requirement already satisfied: langchain-core<0.4.0,>=0.3.68 in c:\\users\\338967\\downloads\\personal\\react\\langgraph\\venv\\lib\\site-packages (from langchain-google-genai) (0.3.69)\n",
      "Requirement already satisfied: pydantic<3,>=2 in c:\\users\\338967\\downloads\\personal\\react\\langgraph\\venv\\lib\\site-packages (from langchain-google-genai) (2.11.7)\n",
      "Requirement already satisfied: google-api-core!=2.0.*,!=2.1.*,!=2.10.*,!=2.2.*,!=2.3.*,!=2.4.*,!=2.5.*,!=2.6.*,!=2.7.*,!=2.8.*,!=2.9.*,<3.0.0,>=1.34.1 in c:\\users\\338967\\downloads\\personal\\react\\langgraph\\venv\\lib\\site-packages (from google-api-core[grpc]!=2.0.*,!=2.1.*,!=2.10.*,!=2.2.*,!=2.3.*,!=2.4.*,!=2.5.*,!=2.6.*,!=2.7.*,!=2.8.*,!=2.9.*,<3.0.0,>=1.34.1->google-ai-generativelanguage<0.7.0,>=0.6.18->langchain-google-genai) (2.25.1)\n",
      "Requirement already satisfied: google-auth!=2.24.0,!=2.25.0,<3.0.0,>=2.14.1 in c:\\users\\338967\\downloads\\personal\\react\\langgraph\\venv\\lib\\site-packages (from google-ai-generativelanguage<0.7.0,>=0.6.18->langchain-google-genai) (2.40.3)\n",
      "Requirement already satisfied: proto-plus<2.0.0,>=1.22.3 in c:\\users\\338967\\downloads\\personal\\react\\langgraph\\venv\\lib\\site-packages (from google-ai-generativelanguage<0.7.0,>=0.6.18->langchain-google-genai) (1.26.1)\n",
      "Requirement already satisfied: protobuf!=4.21.0,!=4.21.1,!=4.21.2,!=4.21.3,!=4.21.4,!=4.21.5,<7.0.0,>=3.20.2 in c:\\users\\338967\\downloads\\personal\\react\\langgraph\\venv\\lib\\site-packages (from google-ai-generativelanguage<0.7.0,>=0.6.18->langchain-google-genai) (6.31.1)\n",
      "Requirement already satisfied: langsmith>=0.3.45 in c:\\users\\338967\\downloads\\personal\\react\\langgraph\\venv\\lib\\site-packages (from langchain-core<0.4.0,>=0.3.68->langchain-google-genai) (0.4.6)\n",
      "Requirement already satisfied: tenacity!=8.4.0,<10.0.0,>=8.1.0 in c:\\users\\338967\\downloads\\personal\\react\\langgraph\\venv\\lib\\site-packages (from langchain-core<0.4.0,>=0.3.68->langchain-google-genai) (9.1.2)\n",
      "Requirement already satisfied: jsonpatch<2.0,>=1.33 in c:\\users\\338967\\downloads\\personal\\react\\langgraph\\venv\\lib\\site-packages (from langchain-core<0.4.0,>=0.3.68->langchain-google-genai) (1.33)\n",
      "Requirement already satisfied: PyYAML>=5.3 in c:\\users\\338967\\downloads\\personal\\react\\langgraph\\venv\\lib\\site-packages (from langchain-core<0.4.0,>=0.3.68->langchain-google-genai) (6.0.2)\n",
      "Requirement already satisfied: typing-extensions>=4.7 in c:\\users\\338967\\downloads\\personal\\react\\langgraph\\venv\\lib\\site-packages (from langchain-core<0.4.0,>=0.3.68->langchain-google-genai) (4.14.1)\n",
      "Requirement already satisfied: packaging>=23.2 in c:\\users\\338967\\downloads\\personal\\react\\langgraph\\venv\\lib\\site-packages (from langchain-core<0.4.0,>=0.3.68->langchain-google-genai) (25.0)\n",
      "Requirement already satisfied: annotated-types>=0.6.0 in c:\\users\\338967\\downloads\\personal\\react\\langgraph\\venv\\lib\\site-packages (from pydantic<3,>=2->langchain-google-genai) (0.7.0)\n",
      "Requirement already satisfied: pydantic-core==2.33.2 in c:\\users\\338967\\downloads\\personal\\react\\langgraph\\venv\\lib\\site-packages (from pydantic<3,>=2->langchain-google-genai) (2.33.2)\n",
      "Requirement already satisfied: typing-inspection>=0.4.0 in c:\\users\\338967\\downloads\\personal\\react\\langgraph\\venv\\lib\\site-packages (from pydantic<3,>=2->langchain-google-genai) (0.4.1)\n",
      "Requirement already satisfied: googleapis-common-protos<2.0.0,>=1.56.2 in c:\\users\\338967\\downloads\\personal\\react\\langgraph\\venv\\lib\\site-packages (from google-api-core!=2.0.*,!=2.1.*,!=2.10.*,!=2.2.*,!=2.3.*,!=2.4.*,!=2.5.*,!=2.6.*,!=2.7.*,!=2.8.*,!=2.9.*,<3.0.0,>=1.34.1->google-api-core[grpc]!=2.0.*,!=2.1.*,!=2.10.*,!=2.2.*,!=2.3.*,!=2.4.*,!=2.5.*,!=2.6.*,!=2.7.*,!=2.8.*,!=2.9.*,<3.0.0,>=1.34.1->google-ai-generativelanguage<0.7.0,>=0.6.18->langchain-google-genai) (1.70.0)\n",
      "Requirement already satisfied: requests<3.0.0,>=2.18.0 in c:\\users\\338967\\downloads\\personal\\react\\langgraph\\venv\\lib\\site-packages (from google-api-core!=2.0.*,!=2.1.*,!=2.10.*,!=2.2.*,!=2.3.*,!=2.4.*,!=2.5.*,!=2.6.*,!=2.7.*,!=2.8.*,!=2.9.*,<3.0.0,>=1.34.1->google-api-core[grpc]!=2.0.*,!=2.1.*,!=2.10.*,!=2.2.*,!=2.3.*,!=2.4.*,!=2.5.*,!=2.6.*,!=2.7.*,!=2.8.*,!=2.9.*,<3.0.0,>=1.34.1->google-ai-generativelanguage<0.7.0,>=0.6.18->langchain-google-genai) (2.32.4)\n",
      "Requirement already satisfied: grpcio<2.0.0,>=1.33.2 in c:\\users\\338967\\downloads\\personal\\react\\langgraph\\venv\\lib\\site-packages (from google-api-core[grpc]!=2.0.*,!=2.1.*,!=2.10.*,!=2.2.*,!=2.3.*,!=2.4.*,!=2.5.*,!=2.6.*,!=2.7.*,!=2.8.*,!=2.9.*,<3.0.0,>=1.34.1->google-ai-generativelanguage<0.7.0,>=0.6.18->langchain-google-genai) (1.73.1)\n",
      "Requirement already satisfied: grpcio-status<2.0.0,>=1.33.2 in c:\\users\\338967\\downloads\\personal\\react\\langgraph\\venv\\lib\\site-packages (from google-api-core[grpc]!=2.0.*,!=2.1.*,!=2.10.*,!=2.2.*,!=2.3.*,!=2.4.*,!=2.5.*,!=2.6.*,!=2.7.*,!=2.8.*,!=2.9.*,<3.0.0,>=1.34.1->google-ai-generativelanguage<0.7.0,>=0.6.18->langchain-google-genai) (1.73.1)\n",
      "Requirement already satisfied: cachetools<6.0,>=2.0.0 in c:\\users\\338967\\downloads\\personal\\react\\langgraph\\venv\\lib\\site-packages (from google-auth!=2.24.0,!=2.25.0,<3.0.0,>=2.14.1->google-ai-generativelanguage<0.7.0,>=0.6.18->langchain-google-genai) (5.5.2)\n",
      "Requirement already satisfied: pyasn1-modules>=0.2.1 in c:\\users\\338967\\downloads\\personal\\react\\langgraph\\venv\\lib\\site-packages (from google-auth!=2.24.0,!=2.25.0,<3.0.0,>=2.14.1->google-ai-generativelanguage<0.7.0,>=0.6.18->langchain-google-genai) (0.4.2)\n",
      "Requirement already satisfied: rsa<5,>=3.1.4 in c:\\users\\338967\\downloads\\personal\\react\\langgraph\\venv\\lib\\site-packages (from google-auth!=2.24.0,!=2.25.0,<3.0.0,>=2.14.1->google-ai-generativelanguage<0.7.0,>=0.6.18->langchain-google-genai) (4.9.1)\n",
      "Requirement already satisfied: jsonpointer>=1.9 in c:\\users\\338967\\downloads\\personal\\react\\langgraph\\venv\\lib\\site-packages (from jsonpatch<2.0,>=1.33->langchain-core<0.4.0,>=0.3.68->langchain-google-genai) (3.0.0)\n",
      "Requirement already satisfied: httpx<1,>=0.23.0 in c:\\users\\338967\\downloads\\personal\\react\\langgraph\\venv\\lib\\site-packages (from langsmith>=0.3.45->langchain-core<0.4.0,>=0.3.68->langchain-google-genai) (0.28.1)\n",
      "Requirement already satisfied: orjson<4.0.0,>=3.9.14 in c:\\users\\338967\\downloads\\personal\\react\\langgraph\\venv\\lib\\site-packages (from langsmith>=0.3.45->langchain-core<0.4.0,>=0.3.68->langchain-google-genai) (3.11.0)\n",
      "Requirement already satisfied: requests-toolbelt<2.0.0,>=1.0.0 in c:\\users\\338967\\downloads\\personal\\react\\langgraph\\venv\\lib\\site-packages (from langsmith>=0.3.45->langchain-core<0.4.0,>=0.3.68->langchain-google-genai) (1.0.0)\n",
      "Requirement already satisfied: zstandard<0.24.0,>=0.23.0 in c:\\users\\338967\\downloads\\personal\\react\\langgraph\\venv\\lib\\site-packages (from langsmith>=0.3.45->langchain-core<0.4.0,>=0.3.68->langchain-google-genai) (0.23.0)\n",
      "Requirement already satisfied: anyio in c:\\users\\338967\\downloads\\personal\\react\\langgraph\\venv\\lib\\site-packages (from httpx<1,>=0.23.0->langsmith>=0.3.45->langchain-core<0.4.0,>=0.3.68->langchain-google-genai) (4.9.0)\n",
      "Requirement already satisfied: certifi in c:\\users\\338967\\downloads\\personal\\react\\langgraph\\venv\\lib\\site-packages (from httpx<1,>=0.23.0->langsmith>=0.3.45->langchain-core<0.4.0,>=0.3.68->langchain-google-genai) (2025.7.14)\n",
      "Requirement already satisfied: httpcore==1.* in c:\\users\\338967\\downloads\\personal\\react\\langgraph\\venv\\lib\\site-packages (from httpx<1,>=0.23.0->langsmith>=0.3.45->langchain-core<0.4.0,>=0.3.68->langchain-google-genai) (1.0.9)\n",
      "Requirement already satisfied: idna in c:\\users\\338967\\downloads\\personal\\react\\langgraph\\venv\\lib\\site-packages (from httpx<1,>=0.23.0->langsmith>=0.3.45->langchain-core<0.4.0,>=0.3.68->langchain-google-genai) (3.10)\n",
      "Requirement already satisfied: h11>=0.16 in c:\\users\\338967\\downloads\\personal\\react\\langgraph\\venv\\lib\\site-packages (from httpcore==1.*->httpx<1,>=0.23.0->langsmith>=0.3.45->langchain-core<0.4.0,>=0.3.68->langchain-google-genai) (0.16.0)\n",
      "Requirement already satisfied: pyasn1<0.7.0,>=0.6.1 in c:\\users\\338967\\downloads\\personal\\react\\langgraph\\venv\\lib\\site-packages (from pyasn1-modules>=0.2.1->google-auth!=2.24.0,!=2.25.0,<3.0.0,>=2.14.1->google-ai-generativelanguage<0.7.0,>=0.6.18->langchain-google-genai) (0.6.1)\n",
      "Requirement already satisfied: charset_normalizer<4,>=2 in c:\\users\\338967\\downloads\\personal\\react\\langgraph\\venv\\lib\\site-packages (from requests<3.0.0,>=2.18.0->google-api-core!=2.0.*,!=2.1.*,!=2.10.*,!=2.2.*,!=2.3.*,!=2.4.*,!=2.5.*,!=2.6.*,!=2.7.*,!=2.8.*,!=2.9.*,<3.0.0,>=1.34.1->google-api-core[grpc]!=2.0.*,!=2.1.*,!=2.10.*,!=2.2.*,!=2.3.*,!=2.4.*,!=2.5.*,!=2.6.*,!=2.7.*,!=2.8.*,!=2.9.*,<3.0.0,>=1.34.1->google-ai-generativelanguage<0.7.0,>=0.6.18->langchain-google-genai) (3.4.2)\n",
      "Requirement already satisfied: urllib3<3,>=1.21.1 in c:\\users\\338967\\downloads\\personal\\react\\langgraph\\venv\\lib\\site-packages (from requests<3.0.0,>=2.18.0->google-api-core!=2.0.*,!=2.1.*,!=2.10.*,!=2.2.*,!=2.3.*,!=2.4.*,!=2.5.*,!=2.6.*,!=2.7.*,!=2.8.*,!=2.9.*,<3.0.0,>=1.34.1->google-api-core[grpc]!=2.0.*,!=2.1.*,!=2.10.*,!=2.2.*,!=2.3.*,!=2.4.*,!=2.5.*,!=2.6.*,!=2.7.*,!=2.8.*,!=2.9.*,<3.0.0,>=1.34.1->google-ai-generativelanguage<0.7.0,>=0.6.18->langchain-google-genai) (2.5.0)\n",
      "Requirement already satisfied: sniffio>=1.1 in c:\\users\\338967\\downloads\\personal\\react\\langgraph\\venv\\lib\\site-packages (from anyio->httpx<1,>=0.23.0->langsmith>=0.3.45->langchain-core<0.4.0,>=0.3.68->langchain-google-genai) (1.3.1)\n",
      "Note: you may need to restart the kernel to use updated packages.\n"
     ]
    },
    {
     "name": "stderr",
     "output_type": "stream",
     "text": [
      "\n",
      "[notice] A new release of pip is available: 24.3.1 -> 25.1.1\n",
      "[notice] To update, run: python.exe -m pip install --upgrade pip\n"
     ]
    }
   ],
   "source": [
    "pip install langchain-google-genai"
   ]
  },
  {
   "cell_type": "code",
   "execution_count": 419,
   "id": "437ef0c6",
   "metadata": {},
   "outputs": [],
   "source": [
    "from dotenv import load_dotenv\n",
    "load_dotenv()\n",
    "\n",
    "from langchain.chat_models import init_chat_model\n",
    "from langgraph.graph import StateGraph, START, END\n",
    "from typing import Annotated\n",
    "from typing_extensions import TypedDict\n",
    "from langgraph.graph.message import add_messages\n",
    "from langgraph.types import interrupt, Command\n",
    "from langgraph.checkpoint.memory import MemorySaver"
   ]
  },
  {
   "cell_type": "code",
   "execution_count": 420,
   "id": "dd38b4c4",
   "metadata": {},
   "outputs": [],
   "source": [
    "class workflowState(TypedDict):\n",
    "    preferences: Annotated[list[str], add_messages]\n",
    "    breakfast: Annotated[list[str], add_messages]\n",
    "    lunch: Annotated[list[str], add_messages]\n",
    "    dinner: Annotated[list[str], add_messages]\n"
   ]
  },
  {
   "cell_type": "code",
   "execution_count": 421,
   "id": "8848e1bf",
   "metadata": {},
   "outputs": [],
   "source": [
    "llm = init_chat_model(\"google_genai:gemini-2.0-flash\")"
   ]
  },
  {
   "cell_type": "code",
   "execution_count": 422,
   "id": "f4d8285d",
   "metadata": {},
   "outputs": [],
   "source": [
    "def get_preferences(state: workflowState):\n",
    "    state[\"preferences\"] = \"vegetarian\"\n",
    "    return { \"preferences\":  state[\"preferences\"] }"
   ]
  },
  {
   "cell_type": "code",
   "execution_count": 423,
   "id": "af7a5bed",
   "metadata": {},
   "outputs": [],
   "source": [
    "def gen_breakfast(state: workflowState):\n",
    "    result = llm.invoke(f\"generate {state[\"preferences\"]} breakfast meal coma seperated small list\")\n",
    "    state[\"breakfast\"] = result.content\n",
    "    return { \"breakfast\":  state[\"breakfast\"] }"
   ]
  },
  {
   "cell_type": "code",
   "execution_count": 424,
   "id": "5ec2916b",
   "metadata": {},
   "outputs": [],
   "source": [
    "def gen_lunch(state: workflowState):\n",
    "    result = llm.invoke(f\"generate {state[\"preferences\"]} lunch meal coma seperated small list\")\n",
    "    state[\"lunch\"] = result.content\n",
    "    return { \"lunch\":  state[\"lunch\"] }"
   ]
  },
  {
   "cell_type": "code",
   "execution_count": 425,
   "id": "016c5511",
   "metadata": {},
   "outputs": [],
   "source": [
    "def gen_dinner(state: workflowState):\n",
    "    result = llm.invoke(f\"generate {state[\"preferences\"]} dinner meal coma seperated small list\")\n",
    "    state[\"dinner\"] = result.content\n",
    "    return { \"dinner\":  state[\"dinner\"] }"
   ]
  },
  {
   "cell_type": "code",
   "execution_count": 426,
   "id": "2f9a5b0f",
   "metadata": {},
   "outputs": [],
   "source": [
    "def review(state: workflowState):\n",
    "    print(\"\\n Generated meal plan\")\n",
    "    print(\"Breakfast:\", state[\"breakfast\"])\n",
    "    print(\"Lunch:\", state[\"lunch\"])\n",
    "    print(\"Dinner:\", state[\"dinner\"])\n",
    "\n",
    "    data = f\"Generated mean plan\\n Breakfast: {state[\"breakfast\"]}, Lunch: {state[\"lunch\"]}, Dinner: {state[\"dinner\"]} review and approve the meal\"\n",
    "    decision = interrupt(data)\n",
    "    if decision == \"yes\":\n",
    "        return Command(\n",
    "            goto=\"finalize\"\n",
    "        )\n",
    "    else:\n",
    "        nodevalue = input('Enter the step you want to go')\n",
    "        return Command(\n",
    "            goto=nodevalue\n",
    "        )\n",
    "\n",
    "    "
   ]
  },
  {
   "cell_type": "code",
   "execution_count": 427,
   "id": "cab3f5eb",
   "metadata": {},
   "outputs": [],
   "source": [
    "def finalize(state: workflowState):\n",
    "    print(f\"meal finalized Breakfast: {state[\"breakfast\"]}, Lunch: {state[\"lunch\"]}, Dinner: {state[\"dinner\"]}\")\n",
    "    return state"
   ]
  },
  {
   "cell_type": "code",
   "execution_count": 428,
   "id": "a3467d41",
   "metadata": {},
   "outputs": [],
   "source": [
    "def reject(state: workflowState):\n",
    "    print(f\"meal rejected Breakfast: {state[\"breakfast\"]}, Lunch: {state[\"lunch\"]}, Dinner: {state[\"dinner\"]}\")\n",
    "    return state"
   ]
  },
  {
   "cell_type": "code",
   "execution_count": 429,
   "id": "7324cc8b",
   "metadata": {},
   "outputs": [],
   "source": [
    "graph = StateGraph(workflowState)\n",
    "\n",
    "memory = MemorySaver()\n",
    "graph.add_node(\"get_preferences\", get_preferences)\n",
    "graph.add_node(\"gen_breakfast\", gen_breakfast)\n",
    "graph.add_node(\"gen_lunch\", gen_lunch)\n",
    "graph.add_node(\"gen_dinner\", gen_dinner)\n",
    "graph.add_node(\"review\", review)\n",
    "graph.add_node(\"finalize\", finalize)\n",
    "# graph.add_node(\"reject\", reject)\n",
    "\n",
    "graph.add_edge(START, \"get_preferences\")\n",
    "graph.add_edge(\"get_preferences\", \"gen_breakfast\")\n",
    "graph.add_edge(\"get_preferences\", \"gen_lunch\")\n",
    "graph.add_edge(\"get_preferences\", \"gen_dinner\")\n",
    "\n",
    "graph.add_edge(\"gen_breakfast\", \"review\")\n",
    "graph.add_edge(\"gen_lunch\", \"review\")\n",
    "graph.add_edge(\"gen_dinner\", \"review\")\n",
    "\n",
    "graph.add_edge(\"review\", \"finalize\")\n",
    "graph.add_edge(\"finalize\", END)\n",
    "\n",
    "workflow = graph.compile(checkpointer=memory)"
   ]
  },
  {
   "cell_type": "code",
   "execution_count": 430,
   "id": "6e2dbb94",
   "metadata": {
    "vscode": {
     "languageId": "javascript"
    }
   },
   "outputs": [
    {
     "name": "stdout",
     "output_type": "stream",
     "text": [
      "\n",
      " Generated meal plan\n",
      "Breakfast: [HumanMessage(content='Oatmeal with berries, Tofu scramble with spinach, Yogurt with granola and fruit, Avocado toast with everything bagel seasoning, Breakfast burrito with black beans and salsa', additional_kwargs={}, response_metadata={}, id='c32d0270-5ac6-4dec-b4ef-34c2982154d5')]\n",
      "Lunch: [HumanMessage(content='Vegetable curry with rice, Lentil soup and whole-wheat bread, Quinoa salad with roasted vegetables, Black bean burgers on whole-grain buns, Pasta primavera', additional_kwargs={}, response_metadata={}, id='8a304864-7ccc-4034-9b9a-bb8293a766e8')]\n",
      "Dinner: [HumanMessage(content='Vegetable curry, Lentil soup, Pasta primavera, Black bean burgers, Stuffed bell peppers, Vegetarian chili, Quinoa salad, Mushroom risotto, Tofu stir-fry', additional_kwargs={}, response_metadata={}, id='0093faa5-bd81-4a6f-a4db-4a6f958af73c')]\n"
     ]
    },
    {
     "data": {
      "text/plain": [
       "[{'get_preferences': {'preferences': 'vegetarian'}},\n",
       " {'gen_breakfast': {'breakfast': 'Oatmeal with berries, Tofu scramble with spinach, Yogurt with granola and fruit, Avocado toast with everything bagel seasoning, Breakfast burrito with black beans and salsa'}},\n",
       " {'gen_lunch': {'lunch': 'Vegetable curry with rice, Lentil soup and whole-wheat bread, Quinoa salad with roasted vegetables, Black bean burgers on whole-grain buns, Pasta primavera'}},\n",
       " {'gen_dinner': {'dinner': 'Vegetable curry, Lentil soup, Pasta primavera, Black bean burgers, Stuffed bell peppers, Vegetarian chili, Quinoa salad, Mushroom risotto, Tofu stir-fry'}},\n",
       " {'__interrupt__': (Interrupt(value=\"Generated mean plan\\n Breakfast: [HumanMessage(content='Oatmeal with berries, Tofu scramble with spinach, Yogurt with granola and fruit, Avocado toast with everything bagel seasoning, Breakfast burrito with black beans and salsa', additional_kwargs={}, response_metadata={}, id='c32d0270-5ac6-4dec-b4ef-34c2982154d5')], Lunch: [HumanMessage(content='Vegetable curry with rice, Lentil soup and whole-wheat bread, Quinoa salad with roasted vegetables, Black bean burgers on whole-grain buns, Pasta primavera', additional_kwargs={}, response_metadata={}, id='8a304864-7ccc-4034-9b9a-bb8293a766e8')], Dinner: [HumanMessage(content='Vegetable curry, Lentil soup, Pasta primavera, Black bean burgers, Stuffed bell peppers, Vegetarian chili, Quinoa salad, Mushroom risotto, Tofu stir-fry', additional_kwargs={}, response_metadata={}, id='0093faa5-bd81-4a6f-a4db-4a6f958af73c')] review and approve the meal\", resumable=True, ns=['review:e2b8bc0e-3cd4-0217-248d-00be1206ca57']),)}]"
      ]
     },
     "execution_count": 430,
     "metadata": {},
     "output_type": "execute_result"
    }
   ],
   "source": [
    "\n",
    "config = {\"configurable\": {\"thread_id\": \"1\"}}\n",
    "result = workflow.invoke({}, config=config, stream_mode=\"updates\")\n",
    "result"
   ]
  },
  {
   "cell_type": "code",
   "execution_count": 431,
   "id": "24af289d",
   "metadata": {
    "vscode": {
     "languageId": "javascript"
    }
   },
   "outputs": [
    {
     "data": {
      "text/plain": [
       "('review',)"
      ]
     },
     "execution_count": 431,
     "metadata": {},
     "output_type": "execute_result"
    }
   ],
   "source": [
    "snapshot = workflow.get_state(config)\n",
    "snapshot.next"
   ]
  },
  {
   "cell_type": "code",
   "execution_count": 432,
   "id": "fa5f07e8",
   "metadata": {
    "vscode": {
     "languageId": "javascript"
    }
   },
   "outputs": [
    {
     "name": "stdout",
     "output_type": "stream",
     "text": [
      "\n",
      " Generated meal plan\n",
      "Breakfast: [HumanMessage(content='Oatmeal with berries, Tofu scramble with spinach, Yogurt with granola and fruit, Avocado toast with everything bagel seasoning, Breakfast burrito with black beans and salsa', additional_kwargs={}, response_metadata={}, id='c32d0270-5ac6-4dec-b4ef-34c2982154d5'), HumanMessage(content='Omelet, Pancakes, Waffles, French Toast, Oatmeal', additional_kwargs={}, response_metadata={}, id='cf5b986c-6888-445e-84ea-9417310b3354')]\n",
      "Lunch: [HumanMessage(content='Vegetable curry with rice, Lentil soup and whole-wheat bread, Quinoa salad with roasted vegetables, Black bean burgers on whole-grain buns, Pasta primavera', additional_kwargs={}, response_metadata={}, id='8a304864-7ccc-4034-9b9a-bb8293a766e8'), HumanMessage(content='vegetarian, pasta salad, vegetarian chili, soup, sandwich, salad', additional_kwargs={}, response_metadata={}, id='86435cb1-f0ff-4480-bd3d-3e2bb5281d6c')]\n",
      "Dinner: [HumanMessage(content='Vegetable curry, Lentil soup, Pasta primavera, Black bean burgers, Stuffed bell peppers, Vegetarian chili, Quinoa salad, Mushroom risotto, Tofu stir-fry', additional_kwargs={}, response_metadata={}, id='0093faa5-bd81-4a6f-a4db-4a6f958af73c'), HumanMessage(content='vegetarian, dinner, meal, comma separated, small list:\\n\\nPasta Primavera, Black Bean Burgers, Lentil Soup, Vegetable Curry, Quinoa Salad', additional_kwargs={}, response_metadata={}, id='a8bea3c2-0929-475e-a0fd-855a1d3ccc70')]\n",
      "\n",
      " Generated meal plan\n",
      "Breakfast: [HumanMessage(content='Oatmeal with berries, Tofu scramble with spinach, Yogurt with granola and fruit, Avocado toast with everything bagel seasoning, Breakfast burrito with black beans and salsa', additional_kwargs={}, response_metadata={}, id='c32d0270-5ac6-4dec-b4ef-34c2982154d5'), HumanMessage(content='Omelet, Pancakes, Waffles, French Toast, Oatmeal', additional_kwargs={}, response_metadata={}, id='cf5b986c-6888-445e-84ea-9417310b3354')]\n",
      "Lunch: [HumanMessage(content='Vegetable curry with rice, Lentil soup and whole-wheat bread, Quinoa salad with roasted vegetables, Black bean burgers on whole-grain buns, Pasta primavera', additional_kwargs={}, response_metadata={}, id='8a304864-7ccc-4034-9b9a-bb8293a766e8'), HumanMessage(content='vegetarian, pasta salad, vegetarian chili, soup, sandwich, salad', additional_kwargs={}, response_metadata={}, id='86435cb1-f0ff-4480-bd3d-3e2bb5281d6c')]\n",
      "Dinner: [HumanMessage(content='Vegetable curry, Lentil soup, Pasta primavera, Black bean burgers, Stuffed bell peppers, Vegetarian chili, Quinoa salad, Mushroom risotto, Tofu stir-fry', additional_kwargs={}, response_metadata={}, id='0093faa5-bd81-4a6f-a4db-4a6f958af73c'), HumanMessage(content='vegetarian, dinner, meal, comma separated, small list:\\n\\nPasta Primavera, Black Bean Burgers, Lentil Soup, Vegetable Curry, Quinoa Salad', additional_kwargs={}, response_metadata={}, id='a8bea3c2-0929-475e-a0fd-855a1d3ccc70')]\n",
      "meal finalized Breakfast: [HumanMessage(content='Oatmeal with berries, Tofu scramble with spinach, Yogurt with granola and fruit, Avocado toast with everything bagel seasoning, Breakfast burrito with black beans and salsa', additional_kwargs={}, response_metadata={}, id='c32d0270-5ac6-4dec-b4ef-34c2982154d5'), HumanMessage(content='Omelet, Pancakes, Waffles, French Toast, Oatmeal', additional_kwargs={}, response_metadata={}, id='cf5b986c-6888-445e-84ea-9417310b3354')], Lunch: [HumanMessage(content='Vegetable curry with rice, Lentil soup and whole-wheat bread, Quinoa salad with roasted vegetables, Black bean burgers on whole-grain buns, Pasta primavera', additional_kwargs={}, response_metadata={}, id='8a304864-7ccc-4034-9b9a-bb8293a766e8'), HumanMessage(content='vegetarian, pasta salad, vegetarian chili, soup, sandwich, salad', additional_kwargs={}, response_metadata={}, id='86435cb1-f0ff-4480-bd3d-3e2bb5281d6c')], Dinner: [HumanMessage(content='Vegetable curry, Lentil soup, Pasta primavera, Black bean burgers, Stuffed bell peppers, Vegetarian chili, Quinoa salad, Mushroom risotto, Tofu stir-fry', additional_kwargs={}, response_metadata={}, id='0093faa5-bd81-4a6f-a4db-4a6f958af73c'), HumanMessage(content='vegetarian, dinner, meal, comma separated, small list:\\n\\nPasta Primavera, Black Bean Burgers, Lentil Soup, Vegetable Curry, Quinoa Salad', additional_kwargs={}, response_metadata={}, id='a8bea3c2-0929-475e-a0fd-855a1d3ccc70')]\n"
     ]
    }
   ],
   "source": [
    "for chunk in workflow.stream({}, config=config):\n",
    "    for node_id, value in chunk.items():\n",
    "\n",
    "        if(node_id == \"__interrupt__\"):\n",
    "            while True: \n",
    "                decision = input(\"Approve meal plan? (yes/no): \").strip().lower()\n",
    "\n",
    "                result = workflow.invoke(Command(resume=decision), config=config, stream_mode=\"updates\")\n",
    "                result\n",
    "            \n",
    "                if decision.lower() == \"yes\":\n",
    "                    break"
   ]
  },
  {
   "cell_type": "code",
   "execution_count": 433,
   "id": "fad811ed",
   "metadata": {
    "vscode": {
     "languageId": "javascript"
    }
   },
   "outputs": [
    {
     "data": {
      "text/plain": [
       "[]"
      ]
     },
     "execution_count": 433,
     "metadata": {},
     "output_type": "execute_result"
    }
   ],
   "source": [
    "decision = input(\"Approve meal plan? (yes/no): \").strip().lower()\n",
    "result = workflow.invoke(Command(resume=decision), config=config, stream_mode=\"updates\")\n",
    "result"
   ]
  },
  {
   "cell_type": "code",
   "execution_count": 434,
   "id": "6c64752b",
   "metadata": {
    "vscode": {
     "languageId": "javascript"
    }
   },
   "outputs": [
    {
     "name": "stderr",
     "output_type": "stream",
     "text": [
      "Task __input__ with path () wrote to unknown channel branch:to:yes, ignoring it.\n"
     ]
    },
    {
     "data": {
      "text/plain": [
       "[]"
      ]
     },
     "execution_count": 434,
     "metadata": {},
     "output_type": "execute_result"
    }
   ],
   "source": [
    "step = input(\"Enter the step you want to go: \").strip().lower()\n",
    "result = workflow.invoke(Command(goto=step), config=config, stream_mode=\"updates\")\n",
    "result"
   ]
  },
  {
   "cell_type": "code",
   "execution_count": 435,
   "id": "3fa91c54",
   "metadata": {
    "vscode": {
     "languageId": "javascript"
    }
   },
   "outputs": [
    {
     "name": "stderr",
     "output_type": "stream",
     "text": [
      "Task __input__ with path () wrote to unknown channel branch:to:yes, ignoring it.\n"
     ]
    },
    {
     "data": {
      "text/plain": [
       "()"
      ]
     },
     "execution_count": 435,
     "metadata": {},
     "output_type": "execute_result"
    }
   ],
   "source": [
    "snapshot = workflow.get_state(config)\n",
    "snapshot.next"
   ]
  },
  {
   "cell_type": "code",
   "execution_count": 436,
   "id": "b2b95954",
   "metadata": {
    "vscode": {
     "languageId": "javascript"
    }
   },
   "outputs": [
    {
     "name": "stderr",
     "output_type": "stream",
     "text": [
      "Task __input__ with path () wrote to unknown channel branch:to:yes, ignoring it.\n"
     ]
    },
    {
     "data": {
      "text/plain": [
       "[]"
      ]
     },
     "execution_count": 436,
     "metadata": {},
     "output_type": "execute_result"
    }
   ],
   "source": [
    "decision = input(\"Approve meal plan? (yes/no): \").strip().lower()\n",
    "result = workflow.invoke(Command(resume=decision), config=config, stream_mode=\"updates\")\n",
    "result"
   ]
  },
  {
   "cell_type": "code",
   "execution_count": 437,
   "id": "90413786",
   "metadata": {
    "vscode": {
     "languageId": "javascript"
    }
   },
   "outputs": [
    {
     "name": "stderr",
     "output_type": "stream",
     "text": [
      "Task __input__ with path () wrote to unknown channel branch:to:yes, ignoring it.\n"
     ]
    },
    {
     "data": {
      "text/plain": [
       "[]"
      ]
     },
     "execution_count": 437,
     "metadata": {},
     "output_type": "execute_result"
    }
   ],
   "source": [
    "result = workflow.invoke(Command(resume='finalize'), config=config, stream_mode=\"updates\")\n",
    "result"
   ]
  },
  {
   "cell_type": "code",
   "execution_count": 438,
   "id": "247a2f6e",
   "metadata": {
    "vscode": {
     "languageId": "javascript"
    }
   },
   "outputs": [
    {
     "name": "stderr",
     "output_type": "stream",
     "text": [
      "Task __input__ with path () wrote to unknown channel branch:to:yes, ignoring it.\n"
     ]
    },
    {
     "name": "stdout",
     "output_type": "stream",
     "text": [
      "{'preferences': [HumanMessage(content='vegetarian', additional_kwargs={}, response_metadata={}, id='81bf0f5c-aa41-4840-b9a7-5e25ff99fc6b'), HumanMessage(content='vegetarian', additional_kwargs={}, response_metadata={}, id='d814170c-c800-4efd-bdd5-b640f02b7438')], 'breakfast': [HumanMessage(content='Oatmeal with berries, Tofu scramble with spinach, Yogurt with granola and fruit, Avocado toast with everything bagel seasoning, Breakfast burrito with black beans and salsa', additional_kwargs={}, response_metadata={}, id='c32d0270-5ac6-4dec-b4ef-34c2982154d5'), HumanMessage(content='Omelet, Pancakes, Waffles, French Toast, Oatmeal', additional_kwargs={}, response_metadata={}, id='cf5b986c-6888-445e-84ea-9417310b3354')], 'lunch': [HumanMessage(content='Vegetable curry with rice, Lentil soup and whole-wheat bread, Quinoa salad with roasted vegetables, Black bean burgers on whole-grain buns, Pasta primavera', additional_kwargs={}, response_metadata={}, id='8a304864-7ccc-4034-9b9a-bb8293a766e8'), HumanMessage(content='vegetarian, pasta salad, vegetarian chili, soup, sandwich, salad', additional_kwargs={}, response_metadata={}, id='86435cb1-f0ff-4480-bd3d-3e2bb5281d6c')], 'dinner': [HumanMessage(content='Vegetable curry, Lentil soup, Pasta primavera, Black bean burgers, Stuffed bell peppers, Vegetarian chili, Quinoa salad, Mushroom risotto, Tofu stir-fry', additional_kwargs={}, response_metadata={}, id='0093faa5-bd81-4a6f-a4db-4a6f958af73c'), HumanMessage(content='vegetarian, dinner, meal, comma separated, small list:\\n\\nPasta Primavera, Black Bean Burgers, Lentil Soup, Vegetable Curry, Quinoa Salad', additional_kwargs={}, response_metadata={}, id='a8bea3c2-0929-475e-a0fd-855a1d3ccc70')]}\n"
     ]
    }
   ],
   "source": [
    "\n",
    "\n",
    "events = workflow.stream(None, config=config, stream_mode=\"values\")\n",
    "for event in events:\n",
    "    print(event)"
   ]
  }
 ],
 "metadata": {
  "kernelspec": {
   "display_name": "venv",
   "language": "python",
   "name": "python3"
  },
  "language_info": {
   "codemirror_mode": {
    "name": "ipython",
    "version": 3
   },
   "file_extension": ".py",
   "mimetype": "text/x-python",
   "name": "python",
   "nbconvert_exporter": "python",
   "pygments_lexer": "ipython3",
   "version": "3.13.2"
  }
 },
 "nbformat": 4,
 "nbformat_minor": 5
}
