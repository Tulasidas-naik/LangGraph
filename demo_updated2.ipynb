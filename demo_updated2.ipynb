{
 "cells": [
  {
   "cell_type": "code",
   "execution_count": 478,
   "id": "4d82126d",
   "metadata": {},
   "outputs": [
    {
     "name": "stdout",
     "output_type": "stream",
     "text": [
      "Requirement already satisfied: langchain in c:\\users\\338967\\downloads\\personal\\react\\langgraph\\venv\\lib\\site-packages (0.3.26)\n",
      "Requirement already satisfied: langgraph in c:\\users\\338967\\downloads\\personal\\react\\langgraph\\venv\\lib\\site-packages (0.5.3)\n",
      "Requirement already satisfied: langchain-core<1.0.0,>=0.3.66 in c:\\users\\338967\\downloads\\personal\\react\\langgraph\\venv\\lib\\site-packages (from langchain) (0.3.69)\n",
      "Requirement already satisfied: langchain-text-splitters<1.0.0,>=0.3.8 in c:\\users\\338967\\downloads\\personal\\react\\langgraph\\venv\\lib\\site-packages (from langchain) (0.3.8)\n",
      "Requirement already satisfied: langsmith>=0.1.17 in c:\\users\\338967\\downloads\\personal\\react\\langgraph\\venv\\lib\\site-packages (from langchain) (0.4.6)\n",
      "Requirement already satisfied: pydantic<3.0.0,>=2.7.4 in c:\\users\\338967\\downloads\\personal\\react\\langgraph\\venv\\lib\\site-packages (from langchain) (2.11.7)\n",
      "Requirement already satisfied: SQLAlchemy<3,>=1.4 in c:\\users\\338967\\downloads\\personal\\react\\langgraph\\venv\\lib\\site-packages (from langchain) (2.0.41)\n",
      "Requirement already satisfied: requests<3,>=2 in c:\\users\\338967\\downloads\\personal\\react\\langgraph\\venv\\lib\\site-packages (from langchain) (2.32.4)\n",
      "Requirement already satisfied: PyYAML>=5.3 in c:\\users\\338967\\downloads\\personal\\react\\langgraph\\venv\\lib\\site-packages (from langchain) (6.0.2)\n",
      "Requirement already satisfied: langgraph-checkpoint<3.0.0,>=2.1.0 in c:\\users\\338967\\downloads\\personal\\react\\langgraph\\venv\\lib\\site-packages (from langgraph) (2.1.0)\n",
      "Requirement already satisfied: langgraph-prebuilt<0.6.0,>=0.5.0 in c:\\users\\338967\\downloads\\personal\\react\\langgraph\\venv\\lib\\site-packages (from langgraph) (0.5.2)\n",
      "Requirement already satisfied: langgraph-sdk<0.2.0,>=0.1.42 in c:\\users\\338967\\downloads\\personal\\react\\langgraph\\venv\\lib\\site-packages (from langgraph) (0.1.73)\n",
      "Requirement already satisfied: xxhash>=3.5.0 in c:\\users\\338967\\downloads\\personal\\react\\langgraph\\venv\\lib\\site-packages (from langgraph) (3.5.0)\n",
      "Requirement already satisfied: tenacity!=8.4.0,<10.0.0,>=8.1.0 in c:\\users\\338967\\downloads\\personal\\react\\langgraph\\venv\\lib\\site-packages (from langchain-core<1.0.0,>=0.3.66->langchain) (9.1.2)\n",
      "Requirement already satisfied: jsonpatch<2.0,>=1.33 in c:\\users\\338967\\downloads\\personal\\react\\langgraph\\venv\\lib\\site-packages (from langchain-core<1.0.0,>=0.3.66->langchain) (1.33)\n",
      "Requirement already satisfied: typing-extensions>=4.7 in c:\\users\\338967\\downloads\\personal\\react\\langgraph\\venv\\lib\\site-packages (from langchain-core<1.0.0,>=0.3.66->langchain) (4.14.1)\n",
      "Requirement already satisfied: packaging>=23.2 in c:\\users\\338967\\downloads\\personal\\react\\langgraph\\venv\\lib\\site-packages (from langchain-core<1.0.0,>=0.3.66->langchain) (25.0)\n",
      "Requirement already satisfied: ormsgpack>=1.10.0 in c:\\users\\338967\\downloads\\personal\\react\\langgraph\\venv\\lib\\site-packages (from langgraph-checkpoint<3.0.0,>=2.1.0->langgraph) (1.10.0)\n",
      "Requirement already satisfied: httpx>=0.25.2 in c:\\users\\338967\\downloads\\personal\\react\\langgraph\\venv\\lib\\site-packages (from langgraph-sdk<0.2.0,>=0.1.42->langgraph) (0.28.1)\n",
      "Requirement already satisfied: orjson>=3.10.1 in c:\\users\\338967\\downloads\\personal\\react\\langgraph\\venv\\lib\\site-packages (from langgraph-sdk<0.2.0,>=0.1.42->langgraph) (3.11.0)\n",
      "Requirement already satisfied: requests-toolbelt<2.0.0,>=1.0.0 in c:\\users\\338967\\downloads\\personal\\react\\langgraph\\venv\\lib\\site-packages (from langsmith>=0.1.17->langchain) (1.0.0)\n",
      "Requirement already satisfied: zstandard<0.24.0,>=0.23.0 in c:\\users\\338967\\downloads\\personal\\react\\langgraph\\venv\\lib\\site-packages (from langsmith>=0.1.17->langchain) (0.23.0)\n",
      "Requirement already satisfied: annotated-types>=0.6.0 in c:\\users\\338967\\downloads\\personal\\react\\langgraph\\venv\\lib\\site-packages (from pydantic<3.0.0,>=2.7.4->langchain) (0.7.0)\n",
      "Requirement already satisfied: pydantic-core==2.33.2 in c:\\users\\338967\\downloads\\personal\\react\\langgraph\\venv\\lib\\site-packages (from pydantic<3.0.0,>=2.7.4->langchain) (2.33.2)\n",
      "Requirement already satisfied: typing-inspection>=0.4.0 in c:\\users\\338967\\downloads\\personal\\react\\langgraph\\venv\\lib\\site-packages (from pydantic<3.0.0,>=2.7.4->langchain) (0.4.1)\n",
      "Requirement already satisfied: charset_normalizer<4,>=2 in c:\\users\\338967\\downloads\\personal\\react\\langgraph\\venv\\lib\\site-packages (from requests<3,>=2->langchain) (3.4.2)\n",
      "Requirement already satisfied: idna<4,>=2.5 in c:\\users\\338967\\downloads\\personal\\react\\langgraph\\venv\\lib\\site-packages (from requests<3,>=2->langchain) (3.10)\n",
      "Requirement already satisfied: urllib3<3,>=1.21.1 in c:\\users\\338967\\downloads\\personal\\react\\langgraph\\venv\\lib\\site-packages (from requests<3,>=2->langchain) (2.5.0)\n",
      "Requirement already satisfied: certifi>=2017.4.17 in c:\\users\\338967\\downloads\\personal\\react\\langgraph\\venv\\lib\\site-packages (from requests<3,>=2->langchain) (2025.7.14)\n",
      "Requirement already satisfied: greenlet>=1 in c:\\users\\338967\\downloads\\personal\\react\\langgraph\\venv\\lib\\site-packages (from SQLAlchemy<3,>=1.4->langchain) (3.2.3)\n",
      "Requirement already satisfied: anyio in c:\\users\\338967\\downloads\\personal\\react\\langgraph\\venv\\lib\\site-packages (from httpx>=0.25.2->langgraph-sdk<0.2.0,>=0.1.42->langgraph) (4.9.0)\n",
      "Requirement already satisfied: httpcore==1.* in c:\\users\\338967\\downloads\\personal\\react\\langgraph\\venv\\lib\\site-packages (from httpx>=0.25.2->langgraph-sdk<0.2.0,>=0.1.42->langgraph) (1.0.9)\n",
      "Requirement already satisfied: h11>=0.16 in c:\\users\\338967\\downloads\\personal\\react\\langgraph\\venv\\lib\\site-packages (from httpcore==1.*->httpx>=0.25.2->langgraph-sdk<0.2.0,>=0.1.42->langgraph) (0.16.0)\n",
      "Requirement already satisfied: jsonpointer>=1.9 in c:\\users\\338967\\downloads\\personal\\react\\langgraph\\venv\\lib\\site-packages (from jsonpatch<2.0,>=1.33->langchain-core<1.0.0,>=0.3.66->langchain) (3.0.0)\n",
      "Requirement already satisfied: sniffio>=1.1 in c:\\users\\338967\\downloads\\personal\\react\\langgraph\\venv\\lib\\site-packages (from anyio->httpx>=0.25.2->langgraph-sdk<0.2.0,>=0.1.42->langgraph) (1.3.1)\n",
      "Note: you may need to restart the kernel to use updated packages.\n"
     ]
    },
    {
     "name": "stderr",
     "output_type": "stream",
     "text": [
      "\n",
      "[notice] A new release of pip is available: 24.3.1 -> 25.1.1\n",
      "[notice] To update, run: python.exe -m pip install --upgrade pip\n"
     ]
    }
   ],
   "source": [
    "pip install langchain langgraph\n"
   ]
  },
  {
   "cell_type": "code",
   "execution_count": 479,
   "id": "c62ad372",
   "metadata": {},
   "outputs": [
    {
     "name": "stdout",
     "output_type": "stream",
     "text": [
      "Requirement already satisfied: langchain-google-genai in c:\\users\\338967\\downloads\\personal\\react\\langgraph\\venv\\lib\\site-packages (2.1.8)\n",
      "Requirement already satisfied: filetype<2.0.0,>=1.2.0 in c:\\users\\338967\\downloads\\personal\\react\\langgraph\\venv\\lib\\site-packages (from langchain-google-genai) (1.2.0)\n",
      "Requirement already satisfied: google-ai-generativelanguage<0.7.0,>=0.6.18 in c:\\users\\338967\\downloads\\personal\\react\\langgraph\\venv\\lib\\site-packages (from langchain-google-genai) (0.6.18)\n",
      "Requirement already satisfied: langchain-core<0.4.0,>=0.3.68 in c:\\users\\338967\\downloads\\personal\\react\\langgraph\\venv\\lib\\site-packages (from langchain-google-genai) (0.3.69)\n",
      "Requirement already satisfied: pydantic<3,>=2 in c:\\users\\338967\\downloads\\personal\\react\\langgraph\\venv\\lib\\site-packages (from langchain-google-genai) (2.11.7)\n",
      "Requirement already satisfied: google-api-core!=2.0.*,!=2.1.*,!=2.10.*,!=2.2.*,!=2.3.*,!=2.4.*,!=2.5.*,!=2.6.*,!=2.7.*,!=2.8.*,!=2.9.*,<3.0.0,>=1.34.1 in c:\\users\\338967\\downloads\\personal\\react\\langgraph\\venv\\lib\\site-packages (from google-api-core[grpc]!=2.0.*,!=2.1.*,!=2.10.*,!=2.2.*,!=2.3.*,!=2.4.*,!=2.5.*,!=2.6.*,!=2.7.*,!=2.8.*,!=2.9.*,<3.0.0,>=1.34.1->google-ai-generativelanguage<0.7.0,>=0.6.18->langchain-google-genai) (2.25.1)\n",
      "Requirement already satisfied: google-auth!=2.24.0,!=2.25.0,<3.0.0,>=2.14.1 in c:\\users\\338967\\downloads\\personal\\react\\langgraph\\venv\\lib\\site-packages (from google-ai-generativelanguage<0.7.0,>=0.6.18->langchain-google-genai) (2.40.3)\n",
      "Requirement already satisfied: proto-plus<2.0.0,>=1.22.3 in c:\\users\\338967\\downloads\\personal\\react\\langgraph\\venv\\lib\\site-packages (from google-ai-generativelanguage<0.7.0,>=0.6.18->langchain-google-genai) (1.26.1)\n",
      "Requirement already satisfied: protobuf!=4.21.0,!=4.21.1,!=4.21.2,!=4.21.3,!=4.21.4,!=4.21.5,<7.0.0,>=3.20.2 in c:\\users\\338967\\downloads\\personal\\react\\langgraph\\venv\\lib\\site-packages (from google-ai-generativelanguage<0.7.0,>=0.6.18->langchain-google-genai) (6.31.1)\n",
      "Requirement already satisfied: langsmith>=0.3.45 in c:\\users\\338967\\downloads\\personal\\react\\langgraph\\venv\\lib\\site-packages (from langchain-core<0.4.0,>=0.3.68->langchain-google-genai) (0.4.6)\n",
      "Requirement already satisfied: tenacity!=8.4.0,<10.0.0,>=8.1.0 in c:\\users\\338967\\downloads\\personal\\react\\langgraph\\venv\\lib\\site-packages (from langchain-core<0.4.0,>=0.3.68->langchain-google-genai) (9.1.2)\n",
      "Requirement already satisfied: jsonpatch<2.0,>=1.33 in c:\\users\\338967\\downloads\\personal\\react\\langgraph\\venv\\lib\\site-packages (from langchain-core<0.4.0,>=0.3.68->langchain-google-genai) (1.33)\n",
      "Requirement already satisfied: PyYAML>=5.3 in c:\\users\\338967\\downloads\\personal\\react\\langgraph\\venv\\lib\\site-packages (from langchain-core<0.4.0,>=0.3.68->langchain-google-genai) (6.0.2)\n",
      "Requirement already satisfied: typing-extensions>=4.7 in c:\\users\\338967\\downloads\\personal\\react\\langgraph\\venv\\lib\\site-packages (from langchain-core<0.4.0,>=0.3.68->langchain-google-genai) (4.14.1)\n",
      "Requirement already satisfied: packaging>=23.2 in c:\\users\\338967\\downloads\\personal\\react\\langgraph\\venv\\lib\\site-packages (from langchain-core<0.4.0,>=0.3.68->langchain-google-genai) (25.0)\n",
      "Requirement already satisfied: annotated-types>=0.6.0 in c:\\users\\338967\\downloads\\personal\\react\\langgraph\\venv\\lib\\site-packages (from pydantic<3,>=2->langchain-google-genai) (0.7.0)\n",
      "Requirement already satisfied: pydantic-core==2.33.2 in c:\\users\\338967\\downloads\\personal\\react\\langgraph\\venv\\lib\\site-packages (from pydantic<3,>=2->langchain-google-genai) (2.33.2)\n",
      "Requirement already satisfied: typing-inspection>=0.4.0 in c:\\users\\338967\\downloads\\personal\\react\\langgraph\\venv\\lib\\site-packages (from pydantic<3,>=2->langchain-google-genai) (0.4.1)\n",
      "Requirement already satisfied: googleapis-common-protos<2.0.0,>=1.56.2 in c:\\users\\338967\\downloads\\personal\\react\\langgraph\\venv\\lib\\site-packages (from google-api-core!=2.0.*,!=2.1.*,!=2.10.*,!=2.2.*,!=2.3.*,!=2.4.*,!=2.5.*,!=2.6.*,!=2.7.*,!=2.8.*,!=2.9.*,<3.0.0,>=1.34.1->google-api-core[grpc]!=2.0.*,!=2.1.*,!=2.10.*,!=2.2.*,!=2.3.*,!=2.4.*,!=2.5.*,!=2.6.*,!=2.7.*,!=2.8.*,!=2.9.*,<3.0.0,>=1.34.1->google-ai-generativelanguage<0.7.0,>=0.6.18->langchain-google-genai) (1.70.0)\n",
      "Requirement already satisfied: requests<3.0.0,>=2.18.0 in c:\\users\\338967\\downloads\\personal\\react\\langgraph\\venv\\lib\\site-packages (from google-api-core!=2.0.*,!=2.1.*,!=2.10.*,!=2.2.*,!=2.3.*,!=2.4.*,!=2.5.*,!=2.6.*,!=2.7.*,!=2.8.*,!=2.9.*,<3.0.0,>=1.34.1->google-api-core[grpc]!=2.0.*,!=2.1.*,!=2.10.*,!=2.2.*,!=2.3.*,!=2.4.*,!=2.5.*,!=2.6.*,!=2.7.*,!=2.8.*,!=2.9.*,<3.0.0,>=1.34.1->google-ai-generativelanguage<0.7.0,>=0.6.18->langchain-google-genai) (2.32.4)\n",
      "Requirement already satisfied: grpcio<2.0.0,>=1.33.2 in c:\\users\\338967\\downloads\\personal\\react\\langgraph\\venv\\lib\\site-packages (from google-api-core[grpc]!=2.0.*,!=2.1.*,!=2.10.*,!=2.2.*,!=2.3.*,!=2.4.*,!=2.5.*,!=2.6.*,!=2.7.*,!=2.8.*,!=2.9.*,<3.0.0,>=1.34.1->google-ai-generativelanguage<0.7.0,>=0.6.18->langchain-google-genai) (1.73.1)\n",
      "Requirement already satisfied: grpcio-status<2.0.0,>=1.33.2 in c:\\users\\338967\\downloads\\personal\\react\\langgraph\\venv\\lib\\site-packages (from google-api-core[grpc]!=2.0.*,!=2.1.*,!=2.10.*,!=2.2.*,!=2.3.*,!=2.4.*,!=2.5.*,!=2.6.*,!=2.7.*,!=2.8.*,!=2.9.*,<3.0.0,>=1.34.1->google-ai-generativelanguage<0.7.0,>=0.6.18->langchain-google-genai) (1.73.1)\n",
      "Requirement already satisfied: cachetools<6.0,>=2.0.0 in c:\\users\\338967\\downloads\\personal\\react\\langgraph\\venv\\lib\\site-packages (from google-auth!=2.24.0,!=2.25.0,<3.0.0,>=2.14.1->google-ai-generativelanguage<0.7.0,>=0.6.18->langchain-google-genai) (5.5.2)\n",
      "Requirement already satisfied: pyasn1-modules>=0.2.1 in c:\\users\\338967\\downloads\\personal\\react\\langgraph\\venv\\lib\\site-packages (from google-auth!=2.24.0,!=2.25.0,<3.0.0,>=2.14.1->google-ai-generativelanguage<0.7.0,>=0.6.18->langchain-google-genai) (0.4.2)\n",
      "Requirement already satisfied: rsa<5,>=3.1.4 in c:\\users\\338967\\downloads\\personal\\react\\langgraph\\venv\\lib\\site-packages (from google-auth!=2.24.0,!=2.25.0,<3.0.0,>=2.14.1->google-ai-generativelanguage<0.7.0,>=0.6.18->langchain-google-genai) (4.9.1)\n",
      "Requirement already satisfied: jsonpointer>=1.9 in c:\\users\\338967\\downloads\\personal\\react\\langgraph\\venv\\lib\\site-packages (from jsonpatch<2.0,>=1.33->langchain-core<0.4.0,>=0.3.68->langchain-google-genai) (3.0.0)\n",
      "Requirement already satisfied: httpx<1,>=0.23.0 in c:\\users\\338967\\downloads\\personal\\react\\langgraph\\venv\\lib\\site-packages (from langsmith>=0.3.45->langchain-core<0.4.0,>=0.3.68->langchain-google-genai) (0.28.1)\n",
      "Requirement already satisfied: orjson<4.0.0,>=3.9.14 in c:\\users\\338967\\downloads\\personal\\react\\langgraph\\venv\\lib\\site-packages (from langsmith>=0.3.45->langchain-core<0.4.0,>=0.3.68->langchain-google-genai) (3.11.0)\n",
      "Requirement already satisfied: requests-toolbelt<2.0.0,>=1.0.0 in c:\\users\\338967\\downloads\\personal\\react\\langgraph\\venv\\lib\\site-packages (from langsmith>=0.3.45->langchain-core<0.4.0,>=0.3.68->langchain-google-genai) (1.0.0)\n",
      "Requirement already satisfied: zstandard<0.24.0,>=0.23.0 in c:\\users\\338967\\downloads\\personal\\react\\langgraph\\venv\\lib\\site-packages (from langsmith>=0.3.45->langchain-core<0.4.0,>=0.3.68->langchain-google-genai) (0.23.0)\n",
      "Requirement already satisfied: anyio in c:\\users\\338967\\downloads\\personal\\react\\langgraph\\venv\\lib\\site-packages (from httpx<1,>=0.23.0->langsmith>=0.3.45->langchain-core<0.4.0,>=0.3.68->langchain-google-genai) (4.9.0)\n",
      "Requirement already satisfied: certifi in c:\\users\\338967\\downloads\\personal\\react\\langgraph\\venv\\lib\\site-packages (from httpx<1,>=0.23.0->langsmith>=0.3.45->langchain-core<0.4.0,>=0.3.68->langchain-google-genai) (2025.7.14)\n",
      "Requirement already satisfied: httpcore==1.* in c:\\users\\338967\\downloads\\personal\\react\\langgraph\\venv\\lib\\site-packages (from httpx<1,>=0.23.0->langsmith>=0.3.45->langchain-core<0.4.0,>=0.3.68->langchain-google-genai) (1.0.9)\n",
      "Requirement already satisfied: idna in c:\\users\\338967\\downloads\\personal\\react\\langgraph\\venv\\lib\\site-packages (from httpx<1,>=0.23.0->langsmith>=0.3.45->langchain-core<0.4.0,>=0.3.68->langchain-google-genai) (3.10)\n",
      "Requirement already satisfied: h11>=0.16 in c:\\users\\338967\\downloads\\personal\\react\\langgraph\\venv\\lib\\site-packages (from httpcore==1.*->httpx<1,>=0.23.0->langsmith>=0.3.45->langchain-core<0.4.0,>=0.3.68->langchain-google-genai) (0.16.0)\n",
      "Requirement already satisfied: pyasn1<0.7.0,>=0.6.1 in c:\\users\\338967\\downloads\\personal\\react\\langgraph\\venv\\lib\\site-packages (from pyasn1-modules>=0.2.1->google-auth!=2.24.0,!=2.25.0,<3.0.0,>=2.14.1->google-ai-generativelanguage<0.7.0,>=0.6.18->langchain-google-genai) (0.6.1)\n",
      "Requirement already satisfied: charset_normalizer<4,>=2 in c:\\users\\338967\\downloads\\personal\\react\\langgraph\\venv\\lib\\site-packages (from requests<3.0.0,>=2.18.0->google-api-core!=2.0.*,!=2.1.*,!=2.10.*,!=2.2.*,!=2.3.*,!=2.4.*,!=2.5.*,!=2.6.*,!=2.7.*,!=2.8.*,!=2.9.*,<3.0.0,>=1.34.1->google-api-core[grpc]!=2.0.*,!=2.1.*,!=2.10.*,!=2.2.*,!=2.3.*,!=2.4.*,!=2.5.*,!=2.6.*,!=2.7.*,!=2.8.*,!=2.9.*,<3.0.0,>=1.34.1->google-ai-generativelanguage<0.7.0,>=0.6.18->langchain-google-genai) (3.4.2)\n",
      "Requirement already satisfied: urllib3<3,>=1.21.1 in c:\\users\\338967\\downloads\\personal\\react\\langgraph\\venv\\lib\\site-packages (from requests<3.0.0,>=2.18.0->google-api-core!=2.0.*,!=2.1.*,!=2.10.*,!=2.2.*,!=2.3.*,!=2.4.*,!=2.5.*,!=2.6.*,!=2.7.*,!=2.8.*,!=2.9.*,<3.0.0,>=1.34.1->google-api-core[grpc]!=2.0.*,!=2.1.*,!=2.10.*,!=2.2.*,!=2.3.*,!=2.4.*,!=2.5.*,!=2.6.*,!=2.7.*,!=2.8.*,!=2.9.*,<3.0.0,>=1.34.1->google-ai-generativelanguage<0.7.0,>=0.6.18->langchain-google-genai) (2.5.0)\n",
      "Requirement already satisfied: sniffio>=1.1 in c:\\users\\338967\\downloads\\personal\\react\\langgraph\\venv\\lib\\site-packages (from anyio->httpx<1,>=0.23.0->langsmith>=0.3.45->langchain-core<0.4.0,>=0.3.68->langchain-google-genai) (1.3.1)\n",
      "Note: you may need to restart the kernel to use updated packages.\n"
     ]
    },
    {
     "name": "stderr",
     "output_type": "stream",
     "text": [
      "\n",
      "[notice] A new release of pip is available: 24.3.1 -> 25.1.1\n",
      "[notice] To update, run: python.exe -m pip install --upgrade pip\n"
     ]
    }
   ],
   "source": [
    "pip install langchain-google-genai"
   ]
  },
  {
   "cell_type": "code",
   "execution_count": 480,
   "id": "437ef0c6",
   "metadata": {},
   "outputs": [],
   "source": [
    "from dotenv import load_dotenv\n",
    "load_dotenv()\n",
    "\n",
    "from langchain.chat_models import init_chat_model\n",
    "from langgraph.graph import StateGraph, START, END\n",
    "from typing import Annotated\n",
    "from typing_extensions import TypedDict\n",
    "from langgraph.graph.message import add_messages\n",
    "from langgraph.types import interrupt, Command\n",
    "from langgraph.checkpoint.memory import MemorySaver"
   ]
  },
  {
   "cell_type": "code",
   "execution_count": 481,
   "id": "dd38b4c4",
   "metadata": {},
   "outputs": [],
   "source": [
    "class workflowState(TypedDict):\n",
    "    preferences: list[str]\n",
    "    breakfast: list[str]\n",
    "    lunch: list[str]\n",
    "    dinner: list[str]"
   ]
  },
  {
   "cell_type": "code",
   "execution_count": 482,
   "id": "8848e1bf",
   "metadata": {},
   "outputs": [],
   "source": [
    "llm = init_chat_model(\"google_genai:gemini-2.0-flash\")"
   ]
  },
  {
   "cell_type": "code",
   "execution_count": 483,
   "id": "f4d8285d",
   "metadata": {},
   "outputs": [],
   "source": [
    "def get_preferences(state: workflowState):\n",
    "    state[\"preferences\"] = \"vegetarian\"\n",
    "    return { \"preferences\":  state[\"preferences\"] }"
   ]
  },
  {
   "cell_type": "code",
   "execution_count": null,
   "id": "af7a5bed",
   "metadata": {},
   "outputs": [],
   "source": [
    "def gen_breakfast(state: workflowState):\n",
    "    # result = llm.invoke(f\"generate {state[\"preferences\"]} breakfast meal coma seperated small list\")\n",
    "    state[\"breakfast\"] = [\"pancakes\", \"omelette\", \"fruit salad\"]\n",
    "    return { \"breakfast\":  state[\"breakfast\"] }"
   ]
  },
  {
   "cell_type": "code",
   "execution_count": null,
   "id": "5ec2916b",
   "metadata": {},
   "outputs": [],
   "source": [
    "def gen_lunch(state: workflowState):\n",
    "    # result = llm.invoke(f\"generate {state[\"preferences\"]} lunch meal coma seperated small list\")\n",
    "    state[\"lunch\"] = [\"salad\", \"sandwich\", \"sushi\"]\n",
    "    return { \"lunch\":  state[\"lunch\"] }"
   ]
  },
  {
   "cell_type": "code",
   "execution_count": null,
   "id": "016c5511",
   "metadata": {},
   "outputs": [],
   "source": [
    "def gen_dinner(state: workflowState):\n",
    "    # result = llm.invoke(f\"generate {state[\"preferences\"]} dinner meal coma seperated small list\")\n",
    "    state[\"dinner\"] = [\"pasta\", \"stir-fry\", \"tacos\"]\n",
    "    return Command(\n",
    "        goto='review',\n",
    "        update={ \"dinner\":  state[\"dinner\"] }\n",
    "    )\n",
    "    "
   ]
  },
  {
   "cell_type": "code",
   "execution_count": 487,
   "id": "2f9a5b0f",
   "metadata": {},
   "outputs": [],
   "source": [
    "def review(state: workflowState):\n",
    "    print(\"\\n Generated meal plan\")\n",
    "    print(\"Breakfast:\", state[\"breakfast\"])\n",
    "    print(\"Lunch:\", state[\"lunch\"])\n",
    "    print(\"Dinner:\", state[\"dinner\"])\n",
    "\n",
    "    data = f\"Generated mean plan\\n Breakfast: {state[\"breakfast\"]}, Lunch: {state[\"lunch\"]}, Dinner: {state[\"dinner\"]} review and approve the meal\"\n",
    "    decision = interrupt(data)\n",
    "    if decision == \"yes\":\n",
    "        return Command(\n",
    "            goto=\"finalize\"\n",
    "        )\n",
    "    else:\n",
    "        nodevalue = input('Enter the step you want to go')\n",
    "        return Command(\n",
    "            goto=nodevalue\n",
    "        )\n",
    "\n",
    "    "
   ]
  },
  {
   "cell_type": "code",
   "execution_count": 488,
   "id": "cab3f5eb",
   "metadata": {},
   "outputs": [],
   "source": [
    "def finalize(state: workflowState):\n",
    "    print(f\"meal finalized-->   Breakfast: {state[\"breakfast\"]}, Lunch: {state[\"lunch\"]}, Dinner: {state[\"dinner\"]}\")\n",
    "    return state"
   ]
  },
  {
   "cell_type": "code",
   "execution_count": 489,
   "id": "7324cc8b",
   "metadata": {},
   "outputs": [],
   "source": [
    "graph = StateGraph(workflowState)\n",
    "\n",
    "memory = MemorySaver()\n",
    "graph.add_node(\"get_preferences\", get_preferences)\n",
    "graph.add_node(\"gen_breakfast\", gen_breakfast)\n",
    "graph.add_node(\"gen_lunch\", gen_lunch)\n",
    "graph.add_node(\"gen_dinner\", gen_dinner)\n",
    "graph.add_node(\"review\", review)\n",
    "graph.add_node(\"finalize\", finalize)\n",
    "# graph.add_node(\"reject\", reject)\n",
    "\n",
    "graph.add_edge(START, \"get_preferences\")\n",
    "graph.add_edge(\"get_preferences\", \"gen_breakfast\")\n",
    "graph.add_edge(\"get_preferences\", \"gen_lunch\")\n",
    "graph.add_edge(\"get_preferences\", \"gen_dinner\")\n",
    "\n",
    "graph.add_edge(\"gen_breakfast\", \"review\")\n",
    "graph.add_edge(\"gen_lunch\", \"review\")\n",
    "graph.add_edge(\"gen_dinner\", \"review\")\n",
    "\n",
    "graph.add_edge(\"review\", \"finalize\")\n",
    "graph.add_edge(\"finalize\", END)\n",
    "\n",
    "workflow = graph.compile(checkpointer=memory)"
   ]
  },
  {
   "cell_type": "code",
   "execution_count": 490,
   "id": "6e2dbb94",
   "metadata": {
    "vscode": {
     "languageId": "javascript"
    }
   },
   "outputs": [
    {
     "name": "stdout",
     "output_type": "stream",
     "text": [
      "\n",
      " Generated meal plan\n",
      "Breakfast: Omelette, Pancakes, Waffles, French Toast, Breakfast Burrito, Oatmeal, Yogurt Parfait, Avocado Toast, Smoothie, Tofu Scramble\n",
      "Lunch: result.content\n",
      "Dinner: result.content\n"
     ]
    },
    {
     "data": {
      "text/plain": [
       "[{'get_preferences': {'preferences': 'vegetarian'}},\n",
       " {'gen_dinner': {'dinner': 'result.content'}},\n",
       " {'gen_lunch': {'lunch': 'result.content'}},\n",
       " {'gen_breakfast': {'breakfast': 'Omelette, Pancakes, Waffles, French Toast, Breakfast Burrito, Oatmeal, Yogurt Parfait, Avocado Toast, Smoothie, Tofu Scramble'}},\n",
       " {'__interrupt__': (Interrupt(value='Generated mean plan\\n Breakfast: Omelette, Pancakes, Waffles, French Toast, Breakfast Burrito, Oatmeal, Yogurt Parfait, Avocado Toast, Smoothie, Tofu Scramble, Lunch: result.content, Dinner: result.content review and approve the meal', resumable=True, ns=['review:7cc96a91-063d-68c9-7ee8-b5ba4385817d']),)}]"
      ]
     },
     "execution_count": 490,
     "metadata": {},
     "output_type": "execute_result"
    }
   ],
   "source": [
    "\n",
    "config = {\"configurable\": {\"thread_id\": \"1\"}}\n",
    "result = workflow.invoke({}, config=config, stream_mode=\"updates\")\n",
    "result"
   ]
  },
  {
   "cell_type": "code",
   "execution_count": 491,
   "id": "24af289d",
   "metadata": {
    "vscode": {
     "languageId": "javascript"
    }
   },
   "outputs": [
    {
     "data": {
      "text/plain": [
       "('review',)"
      ]
     },
     "execution_count": 491,
     "metadata": {},
     "output_type": "execute_result"
    }
   ],
   "source": [
    "snapshot = workflow.get_state(config)\n",
    "snapshot.next"
   ]
  },
  {
   "cell_type": "code",
   "execution_count": null,
   "id": "fa5f07e8",
   "metadata": {
    "vscode": {
     "languageId": "javascript"
    }
   },
   "outputs": [
    {
     "name": "stderr",
     "output_type": "stream",
     "text": [
      "Retrying langchain_google_genai.chat_models._chat_with_retry.<locals>._chat_with_retry in 2.0 seconds as it raised ResourceExhausted: 429 You exceeded your current quota, please check your plan and billing details. For more information on this error, head to: https://ai.google.dev/gemini-api/docs/rate-limits. [violations {\n",
      "  quota_metric: \"generativelanguage.googleapis.com/generate_content_free_tier_requests\"\n",
      "  quota_id: \"GenerateRequestsPerDayPerProjectPerModel-FreeTier\"\n",
      "  quota_dimensions {\n",
      "    key: \"model\"\n",
      "    value: \"gemini-2.0-flash\"\n",
      "  }\n",
      "  quota_dimensions {\n",
      "    key: \"location\"\n",
      "    value: \"global\"\n",
      "  }\n",
      "  quota_value: 200\n",
      "}\n",
      ", links {\n",
      "  description: \"Learn more about Gemini API quotas\"\n",
      "  url: \"https://ai.google.dev/gemini-api/docs/rate-limits\"\n",
      "}\n",
      ", retry_delay {\n",
      "  seconds: 37\n",
      "}\n",
      "].\n"
     ]
    },
    {
     "name": "stdout",
     "output_type": "stream",
     "text": [
      "\n",
      " Generated meal plan\n",
      "Breakfast: Omelet, Pancakes, Waffles, French Toast, Breakfast Burrito, Oatmeal, Yogurt Parfait, Avocado Toast, Breakfast Hash, Smoothie\n",
      "Lunch: result.content\n",
      "Dinner: result.content\n",
      "\n",
      " Generated meal plan\n",
      "Breakfast: Omelet, Pancakes, Waffles, French Toast, Breakfast Burrito, Oatmeal, Yogurt Parfait, Avocado Toast, Breakfast Hash, Smoothie\n",
      "Lunch: result.content\n",
      "Dinner: result.content\n",
      "meal finalized-->   Breakfast: Omelet, Pancakes, Waffles, French Toast, Breakfast Burrito, Oatmeal, Yogurt Parfait, Avocado Toast, Breakfast Hash, Smoothie, Lunch: result.content, Dinner: result.content\n",
      "[{'review': None}, {'finalize': {'preferences': 'vegetarian', 'breakfast': 'Omelet, Pancakes, Waffles, French Toast, Breakfast Burrito, Oatmeal, Yogurt Parfait, Avocado Toast, Breakfast Hash, Smoothie', 'lunch': 'result.content', 'dinner': 'result.content'}}]\n"
     ]
    }
   ],
   "source": [
    "for chunk in workflow.stream({}, config=config, stream_mode=\"updates\"):\n",
    "    for node_id, value in chunk.items():\n",
    "        print(f\"Node ID: {node_id}, Value: {value} ---------------\")\n",
    "        if(node_id == \"__interrupt__\"):\n",
    "            while True: \n",
    "                decision = input(\"Approve meal plan? (yes/no): \").strip().lower()\n",
    "\n",
    "                if decision.lower() == \"yes\":\n",
    "                    result = workflow.invoke(Command(resume=decision), config=config, stream_mode=\"updates\")\n",
    "                    print(result)\n",
    "                    break\n",
    "                else:\n",
    "                    value = input('Eneter the node name you want to go')\n",
    "                    result = workflow.invoke(Command(goto=value), config=config, stream_mode=\"updates\")\n",
    "                    print(result)"
   ]
  }
 ],
 "metadata": {
  "kernelspec": {
   "display_name": "venv",
   "language": "python",
   "name": "python3"
  },
  "language_info": {
   "codemirror_mode": {
    "name": "ipython",
    "version": 3
   },
   "file_extension": ".py",
   "mimetype": "text/x-python",
   "name": "python",
   "nbconvert_exporter": "python",
   "pygments_lexer": "ipython3",
   "version": "3.13.2"
  }
 },
 "nbformat": 4,
 "nbformat_minor": 5
}
